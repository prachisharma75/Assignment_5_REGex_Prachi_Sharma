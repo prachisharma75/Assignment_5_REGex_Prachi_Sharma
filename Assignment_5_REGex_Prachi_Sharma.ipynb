{
 "cells": [
  {
   "cell_type": "markdown",
   "metadata": {},
   "source": [
    "# Task 5\n",
    "# Registration Id - SIRSS1187\n",
    "# Prachi Sharma"
   ]
  },
  {
   "cell_type": "markdown",
   "metadata": {},
   "source": [
    "Q1. Given a list of integers, write a function to return the sum of all prime numbers in that\n",
    "list."
   ]
  },
  {
   "cell_type": "code",
   "execution_count": 1,
   "metadata": {},
   "outputs": [],
   "source": [
    "import math\n",
    "def prime(n):\n",
    "    if n == 0 or n == 1:\n",
    "        return False\n",
    "    else:\n",
    "        for i in range(2, int(n**0.5)+1):\n",
    "            if n%i == 0:\n",
    "                return False\n",
    "                break\n",
    "        else:\n",
    "            return True\n",
    "            \n",
    "def sum_prime(sp):\n",
    "    sum_of_primes=0\n",
    "    for k in sp:\n",
    "        if prime(k):\n",
    "            print(k)\n",
    "            sum_of_primes += k\n",
    "    return sum_of_primes"
   ]
  },
  {
   "cell_type": "code",
   "execution_count": 3,
   "metadata": {},
   "outputs": [
    {
     "name": "stdout",
     "output_type": "stream",
     "text": [
      "3\n",
      "5\n",
      "11\n",
      "17\n",
      "23\n",
      "41\n"
     ]
    },
    {
     "data": {
      "text/plain": [
       "100"
      ]
     },
     "execution_count": 3,
     "metadata": {},
     "output_type": "execute_result"
    }
   ],
   "source": [
    "sum_prime([1,3,4,5,6,11,16,17,23,25,41,42,])"
   ]
  },
  {
   "cell_type": "markdown",
   "metadata": {},
   "source": [
    "Q2. Given a list of integers, write a function to check whether the list is strictly increasing or\n",
    "not."
   ]
  },
  {
   "cell_type": "code",
   "execution_count": 25,
   "metadata": {},
   "outputs": [],
   "source": [
    "Inc='increasing'\n",
    "Dec='decreasing'\n",
    "def order_of_series(int_list):\n",
    "    for i in range(1,len(int_list)):\n",
    "        if int_list[i] < int_list[i-1]:\n",
    "            return Dec\n",
    "    return Inc"
   ]
  },
  {
   "cell_type": "code",
   "execution_count": 28,
   "metadata": {},
   "outputs": [
    {
     "data": {
      "text/plain": [
       "'increasing'"
      ]
     },
     "execution_count": 28,
     "metadata": {},
     "output_type": "execute_result"
    }
   ],
   "source": [
    "order_of_series([2,45,56,88,90])"
   ]
  },
  {
   "cell_type": "code",
   "execution_count": 27,
   "metadata": {},
   "outputs": [
    {
     "data": {
      "text/plain": [
       "'decreasing'"
      ]
     },
     "execution_count": 27,
     "metadata": {},
     "output_type": "execute_result"
    }
   ],
   "source": [
    "order_of_series([98,73,21,12,9])"
   ]
  },
  {
   "cell_type": "markdown",
   "metadata": {},
   "source": [
    "Q3. Write a function to check whether a given list is expanding or not."
   ]
  },
  {
   "cell_type": "code",
   "execution_count": 33,
   "metadata": {},
   "outputs": [
    {
     "data": {
      "text/plain": [
       "True"
      ]
     },
     "execution_count": 33,
     "metadata": {},
     "output_type": "execute_result"
    }
   ],
   "source": [
    "import numpy as np\n",
    "def expanding(k):\n",
    "    if isinstance(k, list):\n",
    "        k = np.array(k)\n",
    "\n",
    "    return (np.diff(abs(k[1:] - k[:-1])) > 0).all()\n",
    "expanding([1,2,5,10,17])"
   ]
  },
  {
   "cell_type": "markdown",
   "metadata": {},
   "source": [
    "Q4. Write a function to calculate all permutations of a given string."
   ]
  },
  {
   "cell_type": "code",
   "execution_count": 36,
   "metadata": {},
   "outputs": [
    {
     "name": "stdout",
     "output_type": "stream",
     "text": [
      "MNOP\n",
      "MNPO\n",
      "MONP\n",
      "MOPN\n",
      "MPON\n",
      "MPNO\n",
      "NMOP\n",
      "NMPO\n",
      "NOMP\n",
      "NOPM\n",
      "NPOM\n",
      "NPMO\n",
      "ONMP\n",
      "ONPM\n",
      "OMNP\n",
      "OMPN\n",
      "OPMN\n",
      "OPNM\n",
      "PNOM\n",
      "PNMO\n",
      "PONM\n",
      "POMN\n",
      "PMON\n",
      "PMNO\n"
     ]
    }
   ],
   "source": [
    "def String(List):\n",
    "    return ''.join(List)\n",
    "\n",
    "def permutations(p, q, r):\n",
    "    if q==r:\n",
    "        print (String(p))\n",
    "    else:\n",
    "        for i in range (q,r+1):\n",
    "            p[q], p[i] = p[i], p[q]\n",
    "            permutations(p, q+1, r)\n",
    "            p[q], p[i] = p[i], p[q] \n",
    "            \n",
    " \n",
    "given_string = \"MNOP\"\n",
    "n = len(given_string)\n",
    "p = list(given_string)\n",
    "permutations(p, 0, n-1)"
   ]
  },
  {
   "cell_type": "code",
   "execution_count": 37,
   "metadata": {},
   "outputs": [
    {
     "name": "stdout",
     "output_type": "stream",
     "text": [
      "NOP\n",
      "NPO\n",
      "ONP\n",
      "OPN\n",
      "PON\n",
      "PNO\n"
     ]
    }
   ],
   "source": [
    "def String(List):\n",
    "    return ''.join(List)\n",
    "\n",
    "def permutations(p, q, r):\n",
    "    if q==r:\n",
    "        print (String(p))\n",
    "    else:\n",
    "        for i in range (q,r+1):\n",
    "            p[q], p[i] = p[i], p[q]\n",
    "            permutations(p, q+1, r)\n",
    "            p[q], p[i] = p[i], p[q] \n",
    "            \n",
    " \n",
    "given_string = \"NOP\"\n",
    "n = len(given_string)\n",
    "p = list(given_string)\n",
    "permutations(p, 0, n-1)"
   ]
  }
 ],
 "metadata": {
  "kernelspec": {
   "display_name": "Python 3",
   "language": "python",
   "name": "python3"
  },
  "language_info": {
   "codemirror_mode": {
    "name": "ipython",
    "version": 3
   },
   "file_extension": ".py",
   "mimetype": "text/x-python",
   "name": "python",
   "nbconvert_exporter": "python",
   "pygments_lexer": "ipython3",
   "version": "3.8.5"
  }
 },
 "nbformat": 4,
 "nbformat_minor": 4
}
